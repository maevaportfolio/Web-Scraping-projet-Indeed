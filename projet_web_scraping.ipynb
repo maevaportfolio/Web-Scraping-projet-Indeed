{
 "cells": [
  {
   "cell_type": "code",
   "execution_count": 2,
   "id": "c8c24b62",
   "metadata": {},
   "outputs": [],
   "source": [
    "import csv\n",
    "from datetime import datetime\n",
    "import requests\n",
    "from bs4 import BeautifulSoup"
   ]
  },
  {
   "cell_type": "code",
   "execution_count": 3,
   "id": "a391f037",
   "metadata": {},
   "outputs": [],
   "source": [
    "template = 'https://fr.indeed.com/jobs?q={}&l={}'"
   ]
  },
  {
   "cell_type": "code",
   "execution_count": 4,
   "id": "eaa985ca",
   "metadata": {},
   "outputs": [],
   "source": [
    "def get_url(position, location):\n",
    "    \"\"\"Generate url from position and location\"\"\"\n",
    "    template = 'https://fr.indeed.com/jobs?q={}&l={}'\n",
    "    url = template.format(position, location)\n",
    "    return url"
   ]
  },
  {
   "cell_type": "code",
   "execution_count": 101,
   "id": "784d92ad",
   "metadata": {},
   "outputs": [],
   "source": [
    "url = get_url(\"data scientist\", \"ile de france\")"
   ]
  },
  {
   "cell_type": "markdown",
   "id": "914cd3b0",
   "metadata": {},
   "source": [
    "### Extract raw HTML"
   ]
  },
  {
   "cell_type": "code",
   "execution_count": 102,
   "id": "714b7366",
   "metadata": {},
   "outputs": [],
   "source": [
    "response = requests.get(url)"
   ]
  },
  {
   "cell_type": "code",
   "execution_count": 103,
   "id": "82255f16",
   "metadata": {},
   "outputs": [
    {
     "data": {
      "text/plain": [
       "<Response [200]>"
      ]
     },
     "execution_count": 103,
     "metadata": {},
     "output_type": "execute_result"
    }
   ],
   "source": [
    "response"
   ]
  },
  {
   "cell_type": "code",
   "execution_count": 104,
   "id": "bc1660b2",
   "metadata": {},
   "outputs": [
    {
     "data": {
      "text/plain": [
       "''"
      ]
     },
     "execution_count": 104,
     "metadata": {},
     "output_type": "execute_result"
    }
   ],
   "source": [
    "response.reason"
   ]
  },
  {
   "cell_type": "code",
   "execution_count": 105,
   "id": "17b274a8",
   "metadata": {},
   "outputs": [],
   "source": [
    "soup = BeautifulSoup(response.text, 'html.parser')"
   ]
  },
  {
   "cell_type": "code",
   "execution_count": 106,
   "id": "770497a3",
   "metadata": {},
   "outputs": [],
   "source": [
    "cards = soup.find_all('div', 'job_seen_beacon')"
   ]
  },
  {
   "cell_type": "code",
   "execution_count": 168,
   "id": "f1153e65",
   "metadata": {},
   "outputs": [
    {
     "data": {
      "text/plain": [
       "15"
      ]
     },
     "execution_count": 168,
     "metadata": {},
     "output_type": "execute_result"
    }
   ],
   "source": [
    "len(cards)"
   ]
  },
  {
   "cell_type": "markdown",
   "id": "e622bd7f",
   "metadata": {},
   "source": [
    "### Prototype the model with a single record"
   ]
  },
  {
   "cell_type": "code",
   "execution_count": 167,
   "id": "7145f3c1",
   "metadata": {},
   "outputs": [],
   "source": [
    "card = cards[0]"
   ]
  },
  {
   "cell_type": "code",
   "execution_count": 169,
   "id": "d3115e4c",
   "metadata": {},
   "outputs": [],
   "source": [
    "atag = card.h2.a"
   ]
  },
  {
   "cell_type": "code",
   "execution_count": 133,
   "id": "c76b5165",
   "metadata": {},
   "outputs": [],
   "source": [
    "atag.get('title')"
   ]
  },
  {
   "cell_type": "code",
   "execution_count": 134,
   "id": "d2927206",
   "metadata": {},
   "outputs": [],
   "source": [
    "job_title = atag.get('title') \n",
    "#Chercher ou il y a le titre et voir ou l'on voit explicitement 'title' -> dans h2 puis dans la categorie span "
   ]
  },
  {
   "cell_type": "code",
   "execution_count": 135,
   "id": "9f803e4a",
   "metadata": {},
   "outputs": [],
   "source": [
    "job_url = \"https://fr.indeed.com\" + atag.get(\"href\")"
   ]
  },
  {
   "cell_type": "code",
   "execution_count": 136,
   "id": "c07ad319",
   "metadata": {},
   "outputs": [
    {
     "data": {
      "text/plain": [
       "'OSTENDI'"
      ]
     },
     "execution_count": 136,
     "metadata": {},
     "output_type": "execute_result"
    }
   ],
   "source": [
    "card.find(\"span\",\"companyName\").text"
   ]
  },
  {
   "cell_type": "code",
   "execution_count": 137,
   "id": "3b55f676",
   "metadata": {},
   "outputs": [
    {
     "data": {
      "text/plain": [
       "'OSTENDI'"
      ]
     },
     "execution_count": 137,
     "metadata": {},
     "output_type": "execute_result"
    }
   ],
   "source": [
    "company = card.find(\"span\",\"companyName\").text\n",
    "company"
   ]
  },
  {
   "cell_type": "code",
   "execution_count": 138,
   "id": "10750dfe",
   "metadata": {},
   "outputs": [],
   "source": [
    "job_location = card.find('div', 'companyLocation').text"
   ]
  },
  {
   "cell_type": "code",
   "execution_count": 139,
   "id": "19b99aae",
   "metadata": {},
   "outputs": [],
   "source": [
    "job_summary = card.find('div','job-snippet').text.strip()"
   ]
  },
  {
   "cell_type": "code",
   "execution_count": 140,
   "id": "f32f9e42",
   "metadata": {},
   "outputs": [],
   "source": [
    "post_date = card.find('span','date').text"
   ]
  },
  {
   "cell_type": "code",
   "execution_count": 141,
   "id": "cf0d4af5",
   "metadata": {},
   "outputs": [],
   "source": [
    "today = datetime.today().strftime('%Y-%m-%d')"
   ]
  },
  {
   "cell_type": "code",
   "execution_count": 142,
   "id": "d4eb192d",
   "metadata": {},
   "outputs": [],
   "source": [
    "try:\n",
    "    job_salary = card.find('div','attribute_snippet').text\n",
    "except AttributeError:\n",
    "    job_salary=''"
   ]
  },
  {
   "cell_type": "markdown",
   "id": "e5d0af69",
   "metadata": {},
   "source": [
    "### Generalize the model with a function"
   ]
  },
  {
   "cell_type": "code",
   "execution_count": 170,
   "id": "f5b17240",
   "metadata": {},
   "outputs": [],
   "source": [
    "def get_record(card):\n",
    "    \"\"\"Extract job data from a single record\"\"\"\n",
    "    atag = card.h2.a\n",
    "    job_url = \"https://fr.indeed.com\" + atag.get(\"href\")\n",
    "    company = card.find(\"span\",\"companyName\").text\n",
    "    job_location = card.find('div', 'companyLocation').text\n",
    "    job_summary = card.find('div','job-snippet').text.strip()\n",
    "    post_date = card.find('span','date').text\n",
    "    today = datetime.today().strftime('%Y-%m-%d')\n",
    "    try:\n",
    "        job_salary = card.find('div','attribute_snippet').text\n",
    "    except AttributeError:\n",
    "        job_salary=''\n",
    "    \n",
    "    record = (company, job_location, post_date, job_summary, job_salary, job_url)\n",
    "    \n",
    "    return record\n",
    "\n",
    "  "
   ]
  },
  {
   "cell_type": "code",
   "execution_count": 163,
   "id": "4fa620bd",
   "metadata": {},
   "outputs": [],
   "source": [
    "records = []\n",
    "\n",
    "for card in cards:\n",
    "    record = get_record(card)\n",
    "    records.append(record)"
   ]
  },
  {
   "cell_type": "code",
   "execution_count": 164,
   "id": "090a754a",
   "metadata": {},
   "outputs": [
    {
     "data": {
      "text/plain": [
       "(None,\n",
       " 'KANTAR',\n",
       " 'Courbevoie (92)',\n",
       " \"PostedAujourd'hui\",\n",
       " \"Vous êtes diplômé(e) d'une formation en Statistique, Mathématiques ou d’une formation universitaire ou ingénieur en data science.\",\n",
       " 'Temps plein',\n",
       " 'https://fr.indeed.com/rc/clk?jk=9ff1b39404babdd0&fccid=fc0eeff012676923&vjs=3')"
      ]
     },
     "execution_count": 164,
     "metadata": {},
     "output_type": "execute_result"
    }
   ],
   "source": [
    "records[0]"
   ]
  },
  {
   "cell_type": "markdown",
   "id": "b75fa474",
   "metadata": {},
   "source": [
    "### Getting the next page"
   ]
  },
  {
   "cell_type": "code",
   "execution_count": 165,
   "id": "c3f030f0",
   "metadata": {},
   "outputs": [],
   "source": [
    "while True:\n",
    "    try:\n",
    "        url = 'https://fr.indeed.com' + soup.find('a',{'aria-label' : 'Suivant'}).get('href')\n",
    "    except AttributeError:\n",
    "        break\n",
    "        \n",
    "    response= requests.get(url)\n",
    "    soup = BeautifulSoup(response.text, 'html.parser')\n",
    "    cards = soup.find_all('div','job_seen_beacon')\n",
    "    \n",
    "    for card in cards:\n",
    "        record = get_record(card)\n",
    "        records.append(record)"
   ]
  },
  {
   "cell_type": "code",
   "execution_count": 166,
   "id": "14b1febf",
   "metadata": {},
   "outputs": [
    {
     "data": {
      "text/plain": [
       "15"
      ]
     },
     "execution_count": 166,
     "metadata": {},
     "output_type": "execute_result"
    }
   ],
   "source": [
    "len(records)"
   ]
  },
  {
   "cell_type": "markdown",
   "id": "482e91ad",
   "metadata": {},
   "source": [
    "### Putting it all together"
   ]
  },
  {
   "cell_type": "code",
   "execution_count": 175,
   "id": "18541e69",
   "metadata": {},
   "outputs": [],
   "source": [
    "import csv\n",
    "from datetime import datetime\n",
    "import requests\n",
    "from bs4 import BeautifulSoup\n",
    "\n",
    "\n",
    "def get_record(card):\n",
    "    \"\"\"Extract job data from a single record\"\"\"\n",
    "    atag = card.h2.a \n",
    "    job_url = \"https://fr.indeed.com\" + atag.get(\"href\")\n",
    "    company = card.find(\"span\",\"companyName\").text\n",
    "    job_location = card.find('div', 'companyLocation').text\n",
    "    job_summary = card.find('div','job-snippet').text.strip()\n",
    "    post_date = card.find('span','date').text\n",
    "    today = datetime.today().strftime('%Y-%m-%d')\n",
    "    try:\n",
    "        job_salary = card.find('div','attribute_snippet').text\n",
    "    except AttributeError:\n",
    "        job_salary=''\n",
    "    \n",
    "    record = (company, job_location, post_date, job_summary, job_salary, job_url)\n",
    "    \n",
    "    return record\n",
    "\n",
    "def main(position, location):\n",
    "    \"\"\"Run the main program routine\"\"\"\n",
    "    records = []\n",
    "    url = get_url(position, location)\n",
    "    \n",
    "    \n",
    "    while True:\n",
    "        response= requests.get(url)\n",
    "        soup = BeautifulSoup(response.text, 'html.parser')\n",
    "        cards = soup.find_all('div','job_seen_beacon')\n",
    "        \n",
    "        for card in cards:\n",
    "            record = get_record(card)\n",
    "            records.append(record)\n",
    "    \n",
    "        try:\n",
    "            url = 'https://fr.indeed.com' + soup.find('a',{'aria-label' : 'Suivant'}).get('href')\n",
    "        except AttributeError:\n",
    "            break\n",
    "        \n",
    "    \n",
    "#We put the url at the end because we started with the url already\n",
    "#save the job data \n",
    "\n",
    "    with open('result.csv', 'w', newline='', encoding='utf-8') as f:\n",
    "        writer =csv.writer(f)\n",
    "        writer.writerow(['Company', 'Location', 'PostDate', 'Summary', 'Salary', 'jobUrl'])\n",
    "        writer.writerows(records)"
   ]
  },
  {
   "cell_type": "code",
   "execution_count": 176,
   "id": "2466b8b2",
   "metadata": {},
   "outputs": [],
   "source": [
    "#run the main program\n",
    "main('data scientist', 'Paris')"
   ]
  }
 ],
 "metadata": {
  "kernelspec": {
   "display_name": "Python 3 (ipykernel)",
   "language": "python",
   "name": "python3"
  },
  "language_info": {
   "codemirror_mode": {
    "name": "ipython",
    "version": 3
   },
   "file_extension": ".py",
   "mimetype": "text/x-python",
   "name": "python",
   "nbconvert_exporter": "python",
   "pygments_lexer": "ipython3",
   "version": "3.9.7"
  }
 },
 "nbformat": 4,
 "nbformat_minor": 5
}
